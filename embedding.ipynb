{
  "nbformat": 4,
  "nbformat_minor": 0,
  "metadata": {
    "colab": {
      "provenance": [],
      "include_colab_link": true
    },
    "kernelspec": {
      "name": "python3",
      "display_name": "Python 3"
    },
    "language_info": {
      "name": "python"
    }
  },
  "cells": [
    {
      "cell_type": "markdown",
      "metadata": {
        "id": "view-in-github",
        "colab_type": "text"
      },
      "source": [
        "<a href=\"https://colab.research.google.com/github/21f3001443/notebooks/blob/main/embedding.ipynb\" target=\"_parent\"><img src=\"https://colab.research.google.com/assets/colab-badge.svg\" alt=\"Open In Colab\"/></a>"
      ]
    },
    {
      "cell_type": "code",
      "execution_count": null,
      "metadata": {
        "id": "UPRulf0snuPj"
      },
      "outputs": [],
      "source": [
        "from google.colab import userdata\n",
        "\n",
        "OPENAI_API_KEY = userdata.get('OPENAI_API_KEY')"
      ]
    },
    {
      "cell_type": "code",
      "source": [
        "import requests\n",
        "r = requests.get(\"https://api.openai.com/v1/models\",headers={\n",
        "    \"Authorization\": f\"Bearer {OPENAI_API_KEY}\"\n",
        "})\n",
        "\n",
        "print(r.json())"
      ],
      "metadata": {
        "colab": {
          "base_uri": "https://localhost:8080/"
        },
        "id": "aBrKFeIpUmVY",
        "outputId": "17081ebd-4656-47d1-caa9-1d744be58dda"
      },
      "execution_count": null,
      "outputs": [
        {
          "output_type": "stream",
          "name": "stdout",
          "text": [
            "{'object': 'list', 'data': [{'id': 'gpt-4-0613', 'object': 'model', 'created': 1686588896, 'owned_by': 'openai'}, {'id': 'gpt-4', 'object': 'model', 'created': 1687882411, 'owned_by': 'openai'}, {'id': 'gpt-3.5-turbo', 'object': 'model', 'created': 1677610602, 'owned_by': 'openai'}, {'id': 'gpt-4o-audio-preview-2025-06-03', 'object': 'model', 'created': 1748908498, 'owned_by': 'system'}, {'id': 'gpt-4.1-nano', 'object': 'model', 'created': 1744321707, 'owned_by': 'system'}, {'id': 'gpt-image-1', 'object': 'model', 'created': 1745517030, 'owned_by': 'system'}, {'id': 'codex-mini-latest', 'object': 'model', 'created': 1746673257, 'owned_by': 'system'}, {'id': 'gpt-4o-realtime-preview-2025-06-03', 'object': 'model', 'created': 1748907838, 'owned_by': 'system'}, {'id': 'davinci-002', 'object': 'model', 'created': 1692634301, 'owned_by': 'system'}, {'id': 'babbage-002', 'object': 'model', 'created': 1692634615, 'owned_by': 'system'}, {'id': 'gpt-3.5-turbo-instruct', 'object': 'model', 'created': 1692901427, 'owned_by': 'system'}, {'id': 'gpt-3.5-turbo-instruct-0914', 'object': 'model', 'created': 1694122472, 'owned_by': 'system'}, {'id': 'dall-e-3', 'object': 'model', 'created': 1698785189, 'owned_by': 'system'}, {'id': 'dall-e-2', 'object': 'model', 'created': 1698798177, 'owned_by': 'system'}, {'id': 'gpt-4-1106-preview', 'object': 'model', 'created': 1698957206, 'owned_by': 'system'}, {'id': 'gpt-3.5-turbo-1106', 'object': 'model', 'created': 1698959748, 'owned_by': 'system'}, {'id': 'tts-1-hd', 'object': 'model', 'created': 1699046015, 'owned_by': 'system'}, {'id': 'tts-1-1106', 'object': 'model', 'created': 1699053241, 'owned_by': 'system'}, {'id': 'tts-1-hd-1106', 'object': 'model', 'created': 1699053533, 'owned_by': 'system'}, {'id': 'text-embedding-3-small', 'object': 'model', 'created': 1705948997, 'owned_by': 'system'}, {'id': 'text-embedding-3-large', 'object': 'model', 'created': 1705953180, 'owned_by': 'system'}, {'id': 'gpt-4-0125-preview', 'object': 'model', 'created': 1706037612, 'owned_by': 'system'}, {'id': 'gpt-4-turbo-preview', 'object': 'model', 'created': 1706037777, 'owned_by': 'system'}, {'id': 'gpt-3.5-turbo-0125', 'object': 'model', 'created': 1706048358, 'owned_by': 'system'}, {'id': 'gpt-4-turbo', 'object': 'model', 'created': 1712361441, 'owned_by': 'system'}, {'id': 'gpt-4-turbo-2024-04-09', 'object': 'model', 'created': 1712601677, 'owned_by': 'system'}, {'id': 'gpt-4o', 'object': 'model', 'created': 1715367049, 'owned_by': 'system'}, {'id': 'gpt-4o-2024-05-13', 'object': 'model', 'created': 1715368132, 'owned_by': 'system'}, {'id': 'gpt-4o-mini-2024-07-18', 'object': 'model', 'created': 1721172717, 'owned_by': 'system'}, {'id': 'gpt-4o-mini', 'object': 'model', 'created': 1721172741, 'owned_by': 'system'}, {'id': 'gpt-4o-2024-08-06', 'object': 'model', 'created': 1722814719, 'owned_by': 'system'}, {'id': 'chatgpt-4o-latest', 'object': 'model', 'created': 1723515131, 'owned_by': 'system'}, {'id': 'o1-preview-2024-09-12', 'object': 'model', 'created': 1725648865, 'owned_by': 'system'}, {'id': 'o1-preview', 'object': 'model', 'created': 1725648897, 'owned_by': 'system'}, {'id': 'o1-mini-2024-09-12', 'object': 'model', 'created': 1725648979, 'owned_by': 'system'}, {'id': 'o1-mini', 'object': 'model', 'created': 1725649008, 'owned_by': 'system'}, {'id': 'gpt-4o-realtime-preview-2024-10-01', 'object': 'model', 'created': 1727131766, 'owned_by': 'system'}, {'id': 'gpt-4o-audio-preview-2024-10-01', 'object': 'model', 'created': 1727389042, 'owned_by': 'system'}, {'id': 'gpt-4o-audio-preview', 'object': 'model', 'created': 1727460443, 'owned_by': 'system'}, {'id': 'gpt-4o-realtime-preview', 'object': 'model', 'created': 1727659998, 'owned_by': 'system'}, {'id': 'omni-moderation-latest', 'object': 'model', 'created': 1731689265, 'owned_by': 'system'}, {'id': 'omni-moderation-2024-09-26', 'object': 'model', 'created': 1732734466, 'owned_by': 'system'}, {'id': 'gpt-4o-realtime-preview-2024-12-17', 'object': 'model', 'created': 1733945430, 'owned_by': 'system'}, {'id': 'gpt-4o-audio-preview-2024-12-17', 'object': 'model', 'created': 1734034239, 'owned_by': 'system'}, {'id': 'gpt-4o-mini-realtime-preview-2024-12-17', 'object': 'model', 'created': 1734112601, 'owned_by': 'system'}, {'id': 'gpt-4o-mini-audio-preview-2024-12-17', 'object': 'model', 'created': 1734115920, 'owned_by': 'system'}, {'id': 'o1-2024-12-17', 'object': 'model', 'created': 1734326976, 'owned_by': 'system'}, {'id': 'o1', 'object': 'model', 'created': 1734375816, 'owned_by': 'system'}, {'id': 'gpt-4o-mini-realtime-preview', 'object': 'model', 'created': 1734387380, 'owned_by': 'system'}, {'id': 'gpt-4o-mini-audio-preview', 'object': 'model', 'created': 1734387424, 'owned_by': 'system'}, {'id': 'o3-mini', 'object': 'model', 'created': 1737146383, 'owned_by': 'system'}, {'id': 'o3-mini-2025-01-31', 'object': 'model', 'created': 1738010200, 'owned_by': 'system'}, {'id': 'gpt-4o-2024-11-20', 'object': 'model', 'created': 1739331543, 'owned_by': 'system'}, {'id': 'gpt-4.5-preview', 'object': 'model', 'created': 1740623059, 'owned_by': 'system'}, {'id': 'gpt-4.5-preview-2025-02-27', 'object': 'model', 'created': 1740623304, 'owned_by': 'system'}, {'id': 'gpt-4o-search-preview-2025-03-11', 'object': 'model', 'created': 1741388170, 'owned_by': 'system'}, {'id': 'gpt-4o-search-preview', 'object': 'model', 'created': 1741388720, 'owned_by': 'system'}, {'id': 'gpt-4o-mini-search-preview-2025-03-11', 'object': 'model', 'created': 1741390858, 'owned_by': 'system'}, {'id': 'gpt-4o-mini-search-preview', 'object': 'model', 'created': 1741391161, 'owned_by': 'system'}, {'id': 'gpt-4o-transcribe', 'object': 'model', 'created': 1742068463, 'owned_by': 'system'}, {'id': 'gpt-4o-mini-transcribe', 'object': 'model', 'created': 1742068596, 'owned_by': 'system'}, {'id': 'o1-pro-2025-03-19', 'object': 'model', 'created': 1742251504, 'owned_by': 'system'}, {'id': 'o1-pro', 'object': 'model', 'created': 1742251791, 'owned_by': 'system'}, {'id': 'gpt-4o-mini-tts', 'object': 'model', 'created': 1742403959, 'owned_by': 'system'}, {'id': 'o4-mini-2025-04-16', 'object': 'model', 'created': 1744133506, 'owned_by': 'system'}, {'id': 'o4-mini', 'object': 'model', 'created': 1744225351, 'owned_by': 'system'}, {'id': 'gpt-4.1-2025-04-14', 'object': 'model', 'created': 1744315746, 'owned_by': 'system'}, {'id': 'gpt-4.1', 'object': 'model', 'created': 1744316542, 'owned_by': 'system'}, {'id': 'gpt-4.1-mini-2025-04-14', 'object': 'model', 'created': 1744317547, 'owned_by': 'system'}, {'id': 'gpt-4.1-mini', 'object': 'model', 'created': 1744318173, 'owned_by': 'system'}, {'id': 'gpt-4.1-nano-2025-04-14', 'object': 'model', 'created': 1744321025, 'owned_by': 'system'}, {'id': 'gpt-3.5-turbo-16k', 'object': 'model', 'created': 1683758102, 'owned_by': 'openai-internal'}, {'id': 'tts-1', 'object': 'model', 'created': 1681940951, 'owned_by': 'openai-internal'}, {'id': 'whisper-1', 'object': 'model', 'created': 1677532384, 'owned_by': 'openai-internal'}, {'id': 'text-embedding-ada-002', 'object': 'model', 'created': 1671217299, 'owned_by': 'openai-internal'}]}\n"
          ]
        }
      ]
    },
    {
      "cell_type": "code",
      "source": [
        "# /// script\n",
        "# requires-python = \"==3.12\"\n",
        "# dependencies = [\n",
        "#   \"sentence-transformers\",\n",
        "#   \"httpx\",\n",
        "#   \"numpy\",\n",
        "# ]\n",
        "# ///\n",
        "\n",
        "from sentence_transformers import SentenceTransformer\n",
        "import numpy as np\n",
        "\n",
        "model = SentenceTransformer('BAAI/bge-base-en-v1.5')  # A small, high quality model\n",
        "\n",
        "async def embed(text: str) -> list[float]:\n",
        "    \"\"\"Get embedding vector for text using local model.\"\"\"\n",
        "    return model.encode(text).tolist()\n",
        "\n",
        "async def get_similarity(text1: str, text2: str) -> float:\n",
        "    \"\"\"Calculate cosine similarity between two texts.\"\"\"\n",
        "    emb1 = np.array(await embed(text1))\n",
        "    emb2 = np.array(await embed(text2))\n",
        "    return float(np.dot(emb1, emb2) / (np.linalg.norm(emb1) * np.linalg.norm(emb2)))\n",
        "\n",
        "async def main():\n",
        "    print(\"Apple\", \"Orange\", await get_similarity(\"Apple\", \"Orange\"))\n",
        "    print(\"Apple\", \"Lightning\", await get_similarity(\"Apple\", \"Lightning\"))\n",
        "    print(\"Apple\", \"Sweet\", await get_similarity(\"Apple\", \"Sweet\"))\n",
        "    print(\"Orange\", \"Sweet\", await get_similarity(\"Orange\", \"Sweet\"))\n",
        "    print(\"Banana\", \"Sweet\", await get_similarity(\"Banana\", \"Sweet\"))\n",
        "    print(\"Cake\", \"Sweet\", await get_similarity(\"Cake\", \"Sweet\"))\n",
        "    print(\"Sugar\", \"Sweet\", await get_similarity(\"Sugar\", \"Sweet\"))\n",
        "    print(\"Cat\", \"Car\", await get_similarity(\"Cat\", \"Car\"))\n",
        "    print(\"Cat\", \"Dog\", await get_similarity(\"Cat\", \"Dog\"))\n",
        "    print(\"Cat\", \"Tiger\", await get_similarity(\"Cat\", \"Tiger\"))\n",
        "    print(\"Dog\", \"Tiger\", await get_similarity(\"Dog\", \"Tiger\"))\n",
        "\n",
        "\n",
        "if __name__ == \"__main__\":\n",
        "    # In Colab, you can directly await async functions instead of using asyncio.run()\n",
        "    await main()"
      ],
      "metadata": {
        "colab": {
          "base_uri": "https://localhost:8080/"
        },
        "id": "b7nLPsifWLac",
        "outputId": "e403f282-7463-47d7-ff04-23779d662c57"
      },
      "execution_count": null,
      "outputs": [
        {
          "output_type": "stream",
          "name": "stdout",
          "text": [
            "Apple Orange 0.6295845532708263\n",
            "Apple Lightning 0.5975212858380147\n",
            "Apple Sweet 0.5626999694273758\n",
            "Orange Sweet 0.5651294628190171\n",
            "Banana Sweet 0.5716693861367814\n",
            "Cake Sweet 0.6522230127172479\n",
            "Sugar Sweet 0.6821955341697183\n",
            "Cat Car 0.6399051762662964\n",
            "Cat Dog 0.7072966563836629\n",
            "Cat Tiger 0.7590802124951175\n",
            "Dog Tiger 0.643633156459927\n"
          ]
        }
      ]
    },
    {
      "cell_type": "code",
      "source": [
        "from sentence_transformers import SentenceTransformer\n",
        "import numpy as np\n",
        "import httpx\n",
        "\n",
        "model = SentenceTransformer('BAAI/bge-base-en-v1.5')  # A small, high quality model\n",
        "\n",
        "async def embed(text: str) -> list[float]:\n",
        "    \"\"\"Get embedding vector for text using OpenAI's API.\"\"\"\n",
        "    async with httpx.AsyncClient() as client:\n",
        "        response = await client.post(\n",
        "            \"https://api.openai.com/v1/embeddings\",\n",
        "            headers={\"Authorization\": f\"Bearer {OPENAI_API_KEY}\"},\n",
        "            json={\"model\": \"text-embedding-3-small\", \"input\": text}\n",
        "        )\n",
        "        return response.json()[\"data\"][0][\"embedding\"]\n",
        "\n",
        "async def get_similarity(text1: str, text2: str) -> float:\n",
        "    \"\"\"Calculate cosine similarity between two texts.\"\"\"\n",
        "    emb1 = np.array(await embed(text1))\n",
        "    emb2 = np.array(await embed(text2))\n",
        "    return float(np.dot(emb1, emb2) / (np.linalg.norm(emb1) * np.linalg.norm(emb2)))\n",
        "\n",
        "async def main():\n",
        "    print(await get_similarity(\"Apple\", \"Orange\"))\n",
        "    print(await get_similarity(\"Apple\", \"Lightning\"))\n",
        "    print(await get_similarity(\"Apple\", \"Sweet\"))\n",
        "    print(await get_similarity(\"Orange\", \"Sweet\"))\n",
        "    print(await get_similarity(\"Banana\", \"Sweet\"))\n",
        "    print(await get_similarity(\"Cake\", \"Sweet\"))\n",
        "    print(await get_similarity(\"Sugar\", \"Sweet\"))\n",
        "    print(await get_similarity(\"Cat\", \"Car\"))\n",
        "    print(await get_similarity(\"Cat\", \"Dog\"))\n",
        "    print(await get_similarity(\"Cat\", \"Tiger\"))\n",
        "    print(await get_similarity(\"Dog\", \"Tiger\"))\n",
        "\n",
        "\n",
        "if __name__ == \"__main__\":\n",
        "    # In Colab, you can directly await async functions instead of using asyncio.run()\n",
        "    await main()"
      ],
      "metadata": {
        "colab": {
          "base_uri": "https://localhost:8080/"
        },
        "id": "UTshdfxSRpqj",
        "outputId": "477a8130-f91c-4202-d2c6-a1e43bb4f6dc"
      },
      "execution_count": null,
      "outputs": [
        {
          "output_type": "stream",
          "name": "stdout",
          "text": [
            "0.4453026974621058\n",
            "0.31592594318685935\n",
            "0.35389331203806473\n",
            "0.3739836872096102\n",
            "0.2834730156429561\n",
            "0.3753747409879192\n",
            "0.5549953980671316\n",
            "0.48091151867211596\n",
            "0.5730163739867703\n",
            "0.4425742022373779\n",
            "0.2723096753284652\n"
          ]
        }
      ]
    },
    {
      "cell_type": "code",
      "source": [
        "from sentence_transformers import SentenceTransformer\n",
        "import numpy as np\n",
        "import httpx\n",
        "\n",
        "model = SentenceTransformer('BAAI/bge-base-en-v1.5')  # A small, high quality model\n",
        "\n",
        "async def embed(text: str) -> list[float]:\n",
        "    \"\"\"Get embedding vector for text using OpenAI's API.\"\"\"\n",
        "    async with httpx.AsyncClient() as client:\n",
        "        response = await client.post(\n",
        "            \"https://api.openai.com/v1/embeddings\",\n",
        "            headers={\"Authorization\": f\"Bearer {OPENAI_API_KEY}\"},\n",
        "            json={\"model\": \"text-embedding-3-large\", \"input\": text}\n",
        "        )\n",
        "        return response.json()[\"data\"][0][\"embedding\"]\n",
        "\n",
        "async def get_similarity(text1: str, text2: str) -> float:\n",
        "    \"\"\"Calculate cosine similarity between two texts.\"\"\"\n",
        "    emb1 = np.array(await embed(text1))\n",
        "    emb2 = np.array(await embed(text2))\n",
        "    return float(np.dot(emb1, emb2) / (np.linalg.norm(emb1) * np.linalg.norm(emb2)))\n",
        "\n",
        "async def main():\n",
        "    print(\"Apple\", \"Orange\", await get_similarity(\"Apple\", \"Orange\"))\n",
        "    print(\"Apple\", \"Lightning\", await get_similarity(\"Apple\", \"Lightning\"))\n",
        "    print(\"Apple\", \"Sweet\", await get_similarity(\"Apple\", \"Sweet\"))\n",
        "    print(\"Orange\", \"Sweet\", await get_similarity(\"Orange\", \"Sweet\"))\n",
        "    print(\"Banana\", \"Sweet\", await get_similarity(\"Banana\", \"Sweet\"))\n",
        "    print(\"Cake\", \"Sweet\", await get_similarity(\"Cake\", \"Sweet\"))\n",
        "    print(\"Sugar\", \"Sweet\", await get_similarity(\"Sugar\", \"Sweet\"))\n",
        "    print(\"Cat\", \"Car\", await get_similarity(\"Cat\", \"Car\"))\n",
        "    print(\"Cat\", \"Dog\", await get_similarity(\"Cat\", \"Dog\"))\n",
        "    print(\"Cat\", \"Tiger\", await get_similarity(\"Cat\", \"Tiger\"))\n",
        "    print(\"Dog\", \"Tiger\", await get_similarity(\"Dog\", \"Tiger\"))\n",
        "\n",
        "\n",
        "if __name__ == \"__main__\":\n",
        "    # In Colab, you can directly await async functions instead of using asyncio.run()\n",
        "    await main()"
      ],
      "metadata": {
        "colab": {
          "base_uri": "https://localhost:8080/"
        },
        "id": "PSavJiHXVw_L",
        "outputId": "0c5eb2ea-eb0a-48b2-b576-dbbc51673bbd"
      },
      "execution_count": null,
      "outputs": [
        {
          "output_type": "stream",
          "name": "stdout",
          "text": [
            "Apple Orange 0.4369372395994161\n",
            "Apple Lightning 0.2700036462244235\n",
            "Apple Sweet 0.3446515549960304\n",
            "Orange Sweet 0.3442843851634875\n",
            "Banana Sweet 0.3450434036641629\n",
            "Cake Sweet 0.43900873289851455\n",
            "Sugar Sweet 0.49483241427554403\n",
            "Cat Car 0.4798208495643023\n",
            "Cat Dog 0.6274555314751838\n",
            "Cat Tiger 0.4018383381456561\n",
            "Dog Tiger 0.37192962780232597\n"
          ]
        }
      ]
    }
  ]
}