{
  "nbformat": 4,
  "nbformat_minor": 0,
  "metadata": {
    "colab": {
      "provenance": [],
      "include_colab_link": true
    },
    "kernelspec": {
      "name": "python3",
      "display_name": "Python 3"
    },
    "language_info": {
      "name": "python"
    }
  },
  "cells": [
    {
      "cell_type": "markdown",
      "metadata": {
        "id": "view-in-github",
        "colab_type": "text"
      },
      "source": [
        "<a href=\"https://colab.research.google.com/github/21f3001443/notebooks/blob/main/sentiment_analysis.ipynb\" target=\"_parent\"><img src=\"https://colab.research.google.com/assets/colab-badge.svg\" alt=\"Open In Colab\"/></a>"
      ]
    },
    {
      "cell_type": "code",
      "execution_count": null,
      "metadata": {
        "id": "UPRulf0snuPj"
      },
      "outputs": [],
      "source": [
        "from google.colab import userdata\n",
        "\n",
        "OPENAI_API_KEY = userdata.get('OPENAI_API_KEY')"
      ]
    },
    {
      "cell_type": "code",
      "source": [
        "import requests\n",
        "r = requests.get(\"https://api.openai.com/v1/models\",headers={\n",
        "    \"Authorization\": f\"Bearer {OPENAI_API_KEY}\"\n",
        "})\n",
        "\n",
        "print(r.json())"
      ],
      "metadata": {
        "colab": {
          "base_uri": "https://localhost:8080/"
        },
        "id": "aBrKFeIpUmVY",
        "outputId": "817a6562-85ea-43b0-8424-3dc803108d69"
      },
      "execution_count": null,
      "outputs": [
        {
          "output_type": "stream",
          "name": "stdout",
          "text": [
            "{'object': 'list', 'data': [{'id': 'gpt-4-0613', 'object': 'model', 'created': 1686588896, 'owned_by': 'openai'}, {'id': 'gpt-4', 'object': 'model', 'created': 1687882411, 'owned_by': 'openai'}, {'id': 'gpt-3.5-turbo', 'object': 'model', 'created': 1677610602, 'owned_by': 'openai'}, {'id': 'gpt-4o-audio-preview-2025-06-03', 'object': 'model', 'created': 1748908498, 'owned_by': 'system'}, {'id': 'gpt-4.1-nano', 'object': 'model', 'created': 1744321707, 'owned_by': 'system'}, {'id': 'gpt-image-1', 'object': 'model', 'created': 1745517030, 'owned_by': 'system'}, {'id': 'codex-mini-latest', 'object': 'model', 'created': 1746673257, 'owned_by': 'system'}, {'id': 'gpt-4o-realtime-preview-2025-06-03', 'object': 'model', 'created': 1748907838, 'owned_by': 'system'}, {'id': 'davinci-002', 'object': 'model', 'created': 1692634301, 'owned_by': 'system'}, {'id': 'babbage-002', 'object': 'model', 'created': 1692634615, 'owned_by': 'system'}, {'id': 'gpt-3.5-turbo-instruct', 'object': 'model', 'created': 1692901427, 'owned_by': 'system'}, {'id': 'gpt-3.5-turbo-instruct-0914', 'object': 'model', 'created': 1694122472, 'owned_by': 'system'}, {'id': 'dall-e-3', 'object': 'model', 'created': 1698785189, 'owned_by': 'system'}, {'id': 'dall-e-2', 'object': 'model', 'created': 1698798177, 'owned_by': 'system'}, {'id': 'gpt-4-1106-preview', 'object': 'model', 'created': 1698957206, 'owned_by': 'system'}, {'id': 'gpt-3.5-turbo-1106', 'object': 'model', 'created': 1698959748, 'owned_by': 'system'}, {'id': 'tts-1-hd', 'object': 'model', 'created': 1699046015, 'owned_by': 'system'}, {'id': 'tts-1-1106', 'object': 'model', 'created': 1699053241, 'owned_by': 'system'}, {'id': 'tts-1-hd-1106', 'object': 'model', 'created': 1699053533, 'owned_by': 'system'}, {'id': 'text-embedding-3-small', 'object': 'model', 'created': 1705948997, 'owned_by': 'system'}, {'id': 'text-embedding-3-large', 'object': 'model', 'created': 1705953180, 'owned_by': 'system'}, {'id': 'gpt-4-0125-preview', 'object': 'model', 'created': 1706037612, 'owned_by': 'system'}, {'id': 'gpt-4-turbo-preview', 'object': 'model', 'created': 1706037777, 'owned_by': 'system'}, {'id': 'gpt-3.5-turbo-0125', 'object': 'model', 'created': 1706048358, 'owned_by': 'system'}, {'id': 'gpt-4-turbo', 'object': 'model', 'created': 1712361441, 'owned_by': 'system'}, {'id': 'gpt-4-turbo-2024-04-09', 'object': 'model', 'created': 1712601677, 'owned_by': 'system'}, {'id': 'gpt-4o', 'object': 'model', 'created': 1715367049, 'owned_by': 'system'}, {'id': 'gpt-4o-2024-05-13', 'object': 'model', 'created': 1715368132, 'owned_by': 'system'}, {'id': 'gpt-4o-mini-2024-07-18', 'object': 'model', 'created': 1721172717, 'owned_by': 'system'}, {'id': 'gpt-4o-mini', 'object': 'model', 'created': 1721172741, 'owned_by': 'system'}, {'id': 'gpt-4o-2024-08-06', 'object': 'model', 'created': 1722814719, 'owned_by': 'system'}, {'id': 'chatgpt-4o-latest', 'object': 'model', 'created': 1723515131, 'owned_by': 'system'}, {'id': 'o1-preview-2024-09-12', 'object': 'model', 'created': 1725648865, 'owned_by': 'system'}, {'id': 'o1-preview', 'object': 'model', 'created': 1725648897, 'owned_by': 'system'}, {'id': 'o1-mini-2024-09-12', 'object': 'model', 'created': 1725648979, 'owned_by': 'system'}, {'id': 'o1-mini', 'object': 'model', 'created': 1725649008, 'owned_by': 'system'}, {'id': 'gpt-4o-realtime-preview-2024-10-01', 'object': 'model', 'created': 1727131766, 'owned_by': 'system'}, {'id': 'gpt-4o-audio-preview-2024-10-01', 'object': 'model', 'created': 1727389042, 'owned_by': 'system'}, {'id': 'gpt-4o-audio-preview', 'object': 'model', 'created': 1727460443, 'owned_by': 'system'}, {'id': 'gpt-4o-realtime-preview', 'object': 'model', 'created': 1727659998, 'owned_by': 'system'}, {'id': 'omni-moderation-latest', 'object': 'model', 'created': 1731689265, 'owned_by': 'system'}, {'id': 'omni-moderation-2024-09-26', 'object': 'model', 'created': 1732734466, 'owned_by': 'system'}, {'id': 'gpt-4o-realtime-preview-2024-12-17', 'object': 'model', 'created': 1733945430, 'owned_by': 'system'}, {'id': 'gpt-4o-audio-preview-2024-12-17', 'object': 'model', 'created': 1734034239, 'owned_by': 'system'}, {'id': 'gpt-4o-mini-realtime-preview-2024-12-17', 'object': 'model', 'created': 1734112601, 'owned_by': 'system'}, {'id': 'gpt-4o-mini-audio-preview-2024-12-17', 'object': 'model', 'created': 1734115920, 'owned_by': 'system'}, {'id': 'o1-2024-12-17', 'object': 'model', 'created': 1734326976, 'owned_by': 'system'}, {'id': 'o1', 'object': 'model', 'created': 1734375816, 'owned_by': 'system'}, {'id': 'gpt-4o-mini-realtime-preview', 'object': 'model', 'created': 1734387380, 'owned_by': 'system'}, {'id': 'gpt-4o-mini-audio-preview', 'object': 'model', 'created': 1734387424, 'owned_by': 'system'}, {'id': 'o3-mini', 'object': 'model', 'created': 1737146383, 'owned_by': 'system'}, {'id': 'o3-mini-2025-01-31', 'object': 'model', 'created': 1738010200, 'owned_by': 'system'}, {'id': 'gpt-4o-2024-11-20', 'object': 'model', 'created': 1739331543, 'owned_by': 'system'}, {'id': 'gpt-4.5-preview', 'object': 'model', 'created': 1740623059, 'owned_by': 'system'}, {'id': 'gpt-4.5-preview-2025-02-27', 'object': 'model', 'created': 1740623304, 'owned_by': 'system'}, {'id': 'gpt-4o-search-preview-2025-03-11', 'object': 'model', 'created': 1741388170, 'owned_by': 'system'}, {'id': 'gpt-4o-search-preview', 'object': 'model', 'created': 1741388720, 'owned_by': 'system'}, {'id': 'gpt-4o-mini-search-preview-2025-03-11', 'object': 'model', 'created': 1741390858, 'owned_by': 'system'}, {'id': 'gpt-4o-mini-search-preview', 'object': 'model', 'created': 1741391161, 'owned_by': 'system'}, {'id': 'gpt-4o-transcribe', 'object': 'model', 'created': 1742068463, 'owned_by': 'system'}, {'id': 'gpt-4o-mini-transcribe', 'object': 'model', 'created': 1742068596, 'owned_by': 'system'}, {'id': 'o1-pro-2025-03-19', 'object': 'model', 'created': 1742251504, 'owned_by': 'system'}, {'id': 'o1-pro', 'object': 'model', 'created': 1742251791, 'owned_by': 'system'}, {'id': 'gpt-4o-mini-tts', 'object': 'model', 'created': 1742403959, 'owned_by': 'system'}, {'id': 'o4-mini-2025-04-16', 'object': 'model', 'created': 1744133506, 'owned_by': 'system'}, {'id': 'o4-mini', 'object': 'model', 'created': 1744225351, 'owned_by': 'system'}, {'id': 'gpt-4.1-2025-04-14', 'object': 'model', 'created': 1744315746, 'owned_by': 'system'}, {'id': 'gpt-4.1', 'object': 'model', 'created': 1744316542, 'owned_by': 'system'}, {'id': 'gpt-4.1-mini-2025-04-14', 'object': 'model', 'created': 1744317547, 'owned_by': 'system'}, {'id': 'gpt-4.1-mini', 'object': 'model', 'created': 1744318173, 'owned_by': 'system'}, {'id': 'gpt-4.1-nano-2025-04-14', 'object': 'model', 'created': 1744321025, 'owned_by': 'system'}, {'id': 'gpt-3.5-turbo-16k', 'object': 'model', 'created': 1683758102, 'owned_by': 'openai-internal'}, {'id': 'tts-1', 'object': 'model', 'created': 1681940951, 'owned_by': 'openai-internal'}, {'id': 'whisper-1', 'object': 'model', 'created': 1677532384, 'owned_by': 'openai-internal'}, {'id': 'text-embedding-ada-002', 'object': 'model', 'created': 1671217299, 'owned_by': 'openai-internal'}]}\n"
          ]
        }
      ]
    },
    {
      "cell_type": "code",
      "source": [
        "import pandas as pd\n",
        "data = pd.DataFrame(r.json()[\"data\"])\n",
        "print(data.id)"
      ],
      "metadata": {
        "colab": {
          "base_uri": "https://localhost:8080/"
        },
        "id": "b7nLPsifWLac",
        "outputId": "0af8c27b-a06e-4dbf-da4c-2a74eebd3eec"
      },
      "execution_count": null,
      "outputs": [
        {
          "output_type": "stream",
          "name": "stdout",
          "text": [
            "0                          gpt-4-0613\n",
            "1                               gpt-4\n",
            "2                       gpt-3.5-turbo\n",
            "3     gpt-4o-audio-preview-2025-06-03\n",
            "4                        gpt-4.1-nano\n",
            "                   ...               \n",
            "70            gpt-4.1-nano-2025-04-14\n",
            "71                  gpt-3.5-turbo-16k\n",
            "72                              tts-1\n",
            "73                          whisper-1\n",
            "74             text-embedding-ada-002\n",
            "Name: id, Length: 75, dtype: object\n"
          ]
        }
      ]
    },
    {
      "cell_type": "code",
      "source": [
        "import os\n",
        "\n",
        "folder = 'movie/'\n",
        "\n",
        "rdata = []\n",
        "\n",
        "for filename in os.listdir(folder):\n",
        "  if filename.endswith(\".txt\"):\n",
        "    file_path = os.path.join(folder,filename)\n",
        "    with open(file_path,'r',encoding='utf-8') as file:\n",
        "      review =file.read().strip()\n",
        "      rdata.append({'filename': filename, 'review': review})\n",
        "\n",
        "df = pd.DataFrame(rdata)"
      ],
      "metadata": {
        "id": "AbnHf87mb3OQ"
      },
      "execution_count": null,
      "outputs": []
    },
    {
      "cell_type": "code",
      "source": [
        "\n",
        "def get_sentiment(review):\n",
        "  response = requests.post(\n",
        "      \"https://api.openai.com/v1/chat/completions\",\n",
        "      headers={\n",
        "          \"Authorization\": f\"Bearer {OPENAI_API_KEY}\"\n",
        "      },\n",
        "      json={\n",
        "          \"model\": \"gpt-4o\",\n",
        "          \"messages\": [\n",
        "              {\n",
        "                  \"role\": \"system\",\n",
        "                  \"content\": \"Identify the sentimence of the movie. Just respond with Positve or Negative.\"\n",
        "              },\n",
        "              {\n",
        "                  \"role\": \"user\",\n",
        "                  \"content\": review\n",
        "              }\n",
        "          ]\n",
        "      }\n",
        "  )\n",
        "  return response.json()[\"choices\"][0][\"message\"][\"content\"]"
      ],
      "metadata": {
        "id": "yqSJMete2LFV"
      },
      "execution_count": null,
      "outputs": []
    },
    {
      "cell_type": "code",
      "source": [
        "df[\"rating\"] = df['review'].apply(get_sentiment)\n",
        "\n",
        "print(df.head())"
      ],
      "metadata": {
        "colab": {
          "base_uri": "https://localhost:8080/"
        },
        "id": "-yWbLZrb7dhl",
        "outputId": "d311f9ce-bf32-436e-e4dd-c41528707059"
      },
      "execution_count": null,
      "outputs": [
        {
          "output_type": "stream",
          "name": "stdout",
          "text": [
            "          filename                                             review  \\\n",
            "0  cv999_13106.txt  truman ( \" true-man \" ) burbank is the perfect...   \n",
            "1  cv999_14636.txt  two party guys bob their heads to haddaway's d...   \n",
            "2  cv998_14111.txt  steven spielberg's second epic film on world w...   \n",
            "3  cv998_15691.txt  there was a time when john carpenter was a gre...   \n",
            "\n",
            "     rating  \n",
            "0  Positive  \n",
            "1  Negative  \n",
            "2  Positive  \n",
            "3  Negative  \n"
          ]
        }
      ]
    }
  ]
}